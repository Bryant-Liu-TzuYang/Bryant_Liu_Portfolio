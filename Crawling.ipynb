{
 "cells": [
  {
   "cell_type": "code",
   "execution_count": 2,
   "metadata": {},
   "outputs": [],
   "source": [
    "from bs4 import BeautifulSoup\n",
    "import requests\n",
    "import time\n",
    "\n",
    "headers = {\n",
    "    'user-agent': 'Mozilla/5.0 (Macintosh; Intel Mac OS X 10_15_7) AppleWebKit/537.36 (KHTML, like Gecko) Chrome/108.0.0.0 Safari/537.36'\n",
    "}\n",
    "\n",
    "stock_id = '2330'\n",
    "url = f'https://tw.stock.yahoo.com/quote/{stock_id}'\n",
    "\n",
    "response = requests.get(url, headers=headers)"
   ]
  },
  {
   "cell_type": "code",
   "execution_count": 3,
   "metadata": {},
   "outputs": [
    {
     "data": {
      "text/plain": [
       "'https://tw.stock.yahoo.com/quote/2330'"
      ]
     },
     "execution_count": 3,
     "metadata": {},
     "output_type": "execute_result"
    }
   ],
   "source": [
    "response.url"
   ]
  },
  {
   "cell_type": "code",
   "execution_count": 17,
   "metadata": {},
   "outputs": [
    {
     "data": {
      "text/plain": [
       "{'user-agent': 'Mozilla/5.0 (Macintosh; Intel Mac OS X 10_15_7) AppleWebKit/537.36 (KHTML, like Gecko) Chrome/108.0.0.0 Safari/537.36', 'Accept-Encoding': 'gzip, deflate, br', 'Accept': '*/*', 'Connection': 'keep-alive'}"
      ]
     },
     "execution_count": 17,
     "metadata": {},
     "output_type": "execute_result"
    }
   ],
   "source": [
    "#確認請求中的 headers 資訊\n",
    "response.request.headers"
   ]
  },
  {
   "cell_type": "code",
   "execution_count": 8,
   "metadata": {},
   "outputs": [
    {
     "data": {
      "text/plain": [
       "200"
      ]
     },
     "execution_count": 8,
     "metadata": {},
     "output_type": "execute_result"
    }
   ],
   "source": [
    "#確認請求是否成功\n",
    "response.status_code"
   ]
  },
  {
   "cell_type": "code",
   "execution_count": 19,
   "metadata": {},
   "outputs": [
    {
     "name": "stdout",
     "output_type": "stream",
     "text": [
      "成功\n"
     ]
    }
   ],
   "source": [
    "if response.status_code == 200:\n",
    "    print(\"成功\")\n",
    "else:\n",
    "    print(\"失敗\")"
   ]
  },
  {
   "cell_type": "code",
   "execution_count": 11,
   "metadata": {},
   "outputs": [],
   "source": [
    "try:\n",
    "    response.raise_for_status()\n",
    "except Exception as err:\n",
    "    print('失敗:{}'.format(err))"
   ]
  },
  {
   "cell_type": "code",
   "execution_count": 14,
   "metadata": {},
   "outputs": [
    {
     "data": {
      "text/plain": [
       "{'expect-ct': 'max-age=31536000, report-uri=\"http://csp.yahoo.com/beacon/csp?src=yahoocom-expect-ct-report-only\"', 'referrer-policy': 'no-referrer-when-downgrade', 'strict-transport-security': 'max-age=31536000', 'x-content-type-options': 'nosniff', 'x-xss-protection': '1; mode=block', 'content-security-policy-report-only': \"connect-src 'self' https://*.yahoo.com https://*.yimg.com https://*.adaptv.advertising.com https://tpc.googlesyndication.com https://edgecast-vod.yahoo.net https://ad.doubleclick.net; default-src 'self' https://*.yahoo.com https://s.yimg.com; font-src 'self' https://*.yahoo.com  https://s.yimg.com; frame-src 'self' https://*.yahoo.com https://s.yimg.com; img-src 'self' data: https:; media-src https://edgecast-vod.yimg.com blob:; script-src 'self' 'unsafe-eval' 'unsafe-inline' https://*.yahoo.com https://s.yimg.com https://consent.cmp.oath.com https://www.gstatic.com https://s.update.wtag.adaptv.advertising.com; style-src 'self' 'unsafe-inline' https://s.yimg.com; worker-src 'self' https://*.yahoo.com blob:; frame-ancestors https://*.yahoo.com https://*.yahoo.net https://*.yahoo.com.tw https://*.yahoo.com.hk https://*.yahoodns.net https://tw.discount.yahoo.net; report-uri https://csp.yahoo.com/beacon/csp?src=td-app-stock\", 'content-type': 'text/html; charset=utf-8', 'vary': 'Accept-Encoding', 'content-encoding': 'gzip', 'date': 'Wed, 11 Jan 2023 05:39:13 GMT', 'x-envoy-upstream-service-time': '398', 'server': 'ATS', 'Age': '0', 'Transfer-Encoding': 'chunked', 'Connection': 'keep-alive', 'Content-Security-Policy': 'frame-ancestors https://*.yahoo.com https://*.yahoo.net https://*.yahoo.com.tw https://*.yahoo.com.hk https://*.yahoodns.net https://tw.discount.yahoo.net;'}"
      ]
     },
     "execution_count": 14,
     "metadata": {},
     "output_type": "execute_result"
    }
   ],
   "source": [
    "response.headers"
   ]
  },
  {
   "cell_type": "code",
   "execution_count": 12,
   "metadata": {},
   "outputs": [
    {
     "data": {
      "text/plain": [
       "'ATS'"
      ]
     },
     "execution_count": 12,
     "metadata": {},
     "output_type": "execute_result"
    }
   ],
   "source": [
    "response.headers['Server']"
   ]
  },
  {
   "cell_type": "code",
   "execution_count": 13,
   "metadata": {},
   "outputs": [
    {
     "data": {
      "text/plain": [
       "'utf-8'"
      ]
     },
     "execution_count": 13,
     "metadata": {},
     "output_type": "execute_result"
    }
   ],
   "source": [
    "response.encoding"
   ]
  },
  {
   "cell_type": "code",
   "execution_count": 21,
   "metadata": {},
   "outputs": [],
   "source": [
    "soup = BeautifulSoup(response.text, 'lxml')"
   ]
  },
  {
   "cell_type": "code",
   "execution_count": 23,
   "metadata": {},
   "outputs": [],
   "source": [
    "ul = soup.find('ul', {'class': 'D(f) Fld(c) Flw(w) H(192px) Mx(-16px)'})"
   ]
  },
  {
   "cell_type": "code",
   "execution_count": 24,
   "metadata": {},
   "outputs": [
    {
     "name": "stdout",
     "output_type": "stream",
     "text": [
      "成交484.5\n",
      "開盤487.5\n",
      "最高488.0\n",
      "最低482.0\n",
      "均價484.2\n",
      "成交金額(億)100.65\n",
      "昨收486.0\n",
      "漲跌幅0.31%\n",
      "漲跌1.5\n",
      "總量20,786\n",
      "昨量32,604\n",
      "振幅1.23%\n"
     ]
    }
   ],
   "source": [
    "for li in ul:\n",
    "    print(li.text)"
   ]
  },
  {
   "cell_type": "code",
   "execution_count": 19,
   "metadata": {},
   "outputs": [
    {
     "name": "stdout",
     "output_type": "stream",
     "text": [
      "股票代號 2330\n",
      "成交484.5\n",
      "開盤487.5\n",
      "最高488.0\n",
      "最低482.0\n",
      "均價484.2\n",
      "成交金額(億)101.56\n",
      "昨收486.0\n",
      "漲跌幅0.31%\n",
      "漲跌1.5\n",
      "總量20,973\n",
      "昨量32,604\n",
      "振幅1.23%\n",
      "--------------------\n",
      "股票代號 1101\n",
      "成交34.70\n",
      "開盤34.70\n",
      "最高34.85\n",
      "最低34.55\n",
      "均價34.71\n",
      "成交金額(億)5.31\n",
      "昨收34.60\n",
      "漲跌幅0.29%\n",
      "漲跌0.10\n",
      "總量15,296\n",
      "昨量11,321\n",
      "振幅0.87%\n",
      "--------------------\n",
      "股票代號 1102\n",
      "成交41.75\n",
      "開盤41.85\n",
      "最高41.95\n",
      "最低41.70\n",
      "均價41.80\n",
      "成交金額(億)0.908\n",
      "昨收41.80\n",
      "漲跌幅0.12%\n",
      "漲跌0.05\n",
      "總量2,172\n",
      "昨量4,955\n",
      "振幅0.60%\n",
      "--------------------\n",
      "股票代號 1103\n",
      "成交17.80\n",
      "開盤17.85\n",
      "最高17.90\n",
      "最低17.70\n",
      "均價17.81\n",
      "成交金額(億)0.047\n",
      "昨收17.80\n",
      "漲跌幅0.00%\n",
      "漲跌0.00\n",
      "總量265\n",
      "昨量115\n",
      "振幅1.12%\n",
      "--------------------\n"
     ]
    }
   ],
   "source": [
    "from bs4 import BeautifulSoup\n",
    "import requests\n",
    "import time\n",
    "\n",
    "#偽裝自己成一般的瀏覽器\n",
    "headers = {\n",
    "    'user-agent': 'Mozilla/5.0 (Macintosh; Intel Mac OS X 10_15_7) AppleWebKit/537.36 (KHTML, like Gecko) Chrome/108.0.0.0 Safari/537.36'\n",
    "}\n",
    "\n",
    "#選出要爬的股票代號\n",
    "stock_id_list = ['2330','1101','1102','1103']\n",
    "\n",
    "#把資訊抓下來\n",
    "#切換不同的股票代號\n",
    "#把資訊逐股票代號 print 出來\n",
    "for s in stock_id_list:\n",
    "    url = f'https://tw.stock.yahoo.com/quote/{s}'\n",
    "    response = requests.get(url, headers=headers)\n",
    "    soup = BeautifulSoup(response.text, 'lxml') \n",
    "    ul2 = soup.find('ul', {'class': 'D(f) Fld(c) Flw(w) H(192px) Mx(-16px)'})\n",
    "    print(\"股票代號 \" + s)\n",
    "    for li in ul2:\n",
    "        print(li.text)\n",
    "    print('-'*20)\n",
    "\n",
    "\n",
    "\n",
    "\n"
   ]
  },
  {
   "cell_type": "code",
   "execution_count": 5,
   "metadata": {},
   "outputs": [
    {
     "name": "stdout",
     "output_type": "stream",
     "text": [
      "2330\n",
      "1101\n",
      "1102\n",
      "1103\n"
     ]
    }
   ],
   "source": [
    "stock_id_list = ['2330','1101','1102','1103']\n",
    "\n",
    "for s in stock_id_list:\n",
    "    print(s)"
   ]
  },
  {
   "cell_type": "code",
   "execution_count": 22,
   "metadata": {},
   "outputs": [
    {
     "name": "stdout",
     "output_type": "stream",
     "text": [
      "stock number 2330\n",
      "成交484.5\n",
      "開盤487.5\n",
      "最高488.0\n",
      "最低482.0\n",
      "均價484.2\n",
      "成交金額(億)101.56\n",
      "昨收486.0\n",
      "漲跌幅0.31%\n",
      "漲跌1.5\n",
      "總量20,973\n",
      "昨量32,604\n",
      "振幅1.23%\n",
      "--------------------\n",
      "stock number 1101\n",
      "成交34.70\n",
      "開盤34.70\n",
      "最高34.85\n",
      "最低34.55\n",
      "均價34.71\n",
      "成交金額(億)5.31\n",
      "昨收34.60\n",
      "漲跌幅0.29%\n",
      "漲跌0.10\n",
      "總量15,296\n",
      "昨量11,321\n",
      "振幅0.87%\n",
      "--------------------\n",
      "stock number 1102\n",
      "成交41.75\n",
      "開盤41.85\n",
      "最高41.95\n",
      "最低41.70\n",
      "均價41.80\n",
      "成交金額(億)0.908\n",
      "昨收41.80\n",
      "漲跌幅0.12%\n",
      "漲跌0.05\n",
      "總量2,172\n",
      "昨量4,955\n",
      "振幅0.60%\n",
      "--------------------\n",
      "stock number 1103\n",
      "成交17.80\n",
      "開盤17.85\n",
      "最高17.90\n",
      "最低17.70\n",
      "均價17.81\n",
      "成交金額(億)0.047\n",
      "昨收17.80\n",
      "漲跌幅0.00%\n",
      "漲跌0.00\n",
      "總量265\n",
      "昨量115\n",
      "振幅1.12%\n",
      "--------------------\n"
     ]
    }
   ],
   "source": [
    "#老師的作法\n",
    "from bs4 import BeautifulSoup\n",
    "import requests\n",
    "import time\n",
    "\n",
    "#偽裝自己成一般的瀏覽器\n",
    "headers = {\n",
    "    'user-agent': 'Mozilla/5.0 (Macintosh; Intel Mac OS X 10_15_7) AppleWebKit/537.36 (KHTML, like Gecko) Chrome/108.0.0.0 Safari/537.36'\n",
    "}\n",
    "\n",
    "#選出要爬的股票代號\n",
    "stock_id_list = ['2330','1101','1102','1103']\n",
    "\n",
    "#先定義我們要做的事情是什麼，再把 stock_id_list 裡的資料按照這個定義跑一次\n",
    "#邏輯感覺就是比較順，還可以加上測試，檢測哪邊有問題\n",
    "\n",
    "def scratch_information(stock_id):\n",
    "    url = f'https://tw.stock.yahoo.com/quote/{stock_id}'\n",
    "    response = requests.get(url, headers=headers)\n",
    "    response.raise_for_status()\n",
    "\n",
    "    soup = BeautifulSoup(response.text, 'lxml')\n",
    "    ul = soup.find('ul', {'class': 'D(f) Fld(c) Flw(w) H(192px) Mx(-16px)'})\n",
    "\n",
    "    print('stock number', stock_id)\n",
    "    for li in ul:\n",
    "        print(li.text)\n",
    "\n",
    "for stock_id in stock_id_list:\n",
    "    try:\n",
    "        scratch_information()\n",
    "    except Exception as err:\n",
    "        print('{} 失敗: {}'.format(stock_id,err))\n",
    "    \n",
    "    print('-'*20)\n",
    "    time.sleep(3)\n",
    "\n"
   ]
  },
  {
   "cell_type": "code",
   "execution_count": null,
   "metadata": {},
   "outputs": [],
   "source": []
  }
 ],
 "metadata": {
  "kernelspec": {
   "display_name": "base",
   "language": "python",
   "name": "python3"
  },
  "language_info": {
   "codemirror_mode": {
    "name": "ipython",
    "version": 3
   },
   "file_extension": ".py",
   "mimetype": "text/x-python",
   "name": "python",
   "nbconvert_exporter": "python",
   "pygments_lexer": "ipython3",
   "version": "3.12.0"
  },
  "orig_nbformat": 4,
  "vscode": {
   "interpreter": {
    "hash": "58f0bcacaf9635fc0414993733b3a1500a880c25c5f5b7ad822e8f1ebf1df3ab"
   }
  }
 },
 "nbformat": 4,
 "nbformat_minor": 2
}
