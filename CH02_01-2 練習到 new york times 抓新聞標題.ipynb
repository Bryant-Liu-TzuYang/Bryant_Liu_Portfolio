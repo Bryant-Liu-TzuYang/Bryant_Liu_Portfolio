{
 "cells": [
  {
   "cell_type": "code",
   "execution_count": 1,
   "metadata": {},
   "outputs": [],
   "source": [
    "import requests\n",
    "from bs4 import BeautifulSoup\n",
    "url = f'https://www.nytimes.com/'\n",
    "\n",
    "response = requests.get(url)"
   ]
  },
  {
   "cell_type": "code",
   "execution_count": 2,
   "metadata": {},
   "outputs": [
    {
     "data": {
      "text/plain": [
       "'https://www.nytimes.com/'"
      ]
     },
     "execution_count": 2,
     "metadata": {},
     "output_type": "execute_result"
    }
   ],
   "source": [
    "response.url"
   ]
  },
  {
   "cell_type": "code",
   "execution_count": 3,
   "metadata": {},
   "outputs": [],
   "source": [
    "soup = BeautifulSoup(response.text, 'lxml')"
   ]
  },
  {
   "cell_type": "code",
   "execution_count": 4,
   "metadata": {},
   "outputs": [
    {
     "name": "stdout",
     "output_type": "stream",
     "text": [
      "California Storm\n",
      "Russia-Ukraine War\n",
      "Divided House Approves G.O.P. Inquiry Into ‘Weaponization’ of Government\n",
      "Advertisement\n",
      "At Least 17 Dead as Relentless Storms Pound California\n",
      "The string of storms pummeling California has proved catastrophic. Here’s what it looks like.\n",
      "Russian Mercenary Force Claims to Capture Town in Eastern Ukraine\n",
      "Biden ‘Surprised’ to Learn Classified Documents Were Found in Former Office\n",
      "Here’s how the discovery of classified files in President Biden’s office compares with the Mar-a-Lago case.\n",
      "Death Toll in Peru Rises to 47 Amid Extraordinary Violence\n",
      "Leer en español. (Read in Spanish.)\n",
      "Tarnished Golden Globes Return to TV, and Hollywood Plays Along\n",
      "Here is the complete list of winners.\n",
      "See all of the looks from the red carpet.\n",
      "Biden Defends His Immigration Policy as Summit in Mexico Wraps Up\n",
      "President Biden has built rapport with President Andrés Manuel López Obrador of Mexico after a rocky start.\n",
      "An Ailing Arkansas City Elected an 18-Year-Old Mayor to Turn Things Around\n",
      "George Pell, Cardinal Whose Abuse Conviction Was Overturned, Dies at 81\n",
      "Prince Harry’s Memoir\n",
      "Prince Harry Learns to Cry, and Takes No Prisoners, in ‘Spare’\n",
      "Prince Harry talked about taking psychedelics to deal with grief. Here’s what we know about their effectiveness.\n",
      "Advertisement\n",
      "You May Miss These Parasites When They’re Gone\n",
      "Finland is testing new ways to teach students how to spot misinformation.\n",
      "Is a spoonful of sea moss the key to good health?\n",
      "Michelle Cottle\n",
      "The Not-So-Tender Mercies of the House Wing-Nuts\n",
      "Eloisa Diez\n",
      "‘Hello, My Child.’ This Is the Story of a Trans Man and the Birth of His Daughter.\n",
      "Frank Bruni\n",
      "Noma and the Fizzle of Too-Fine Dining\n",
      "Jamelle Bouie\n",
      "The Less Talked About Part of McCarthy’s Deal With Republican Radicals\n",
      "Kathi Wolfe\n",
      "I Had No Idea What a Smile Looked Like Before I Saw the Movies\n",
      "Paul Krugman\n",
      "Can We Really Have a Soft Landing?\n",
      "John McWhorter\n",
      "The Secret Lives of Words\n",
      "Rose Abramoff\n",
      "I’m a Scientist Who Spoke Up About Climate Change. My Employer Fired Me.\n",
      "Letters From Our Readers\n",
      "Fired by a College for Showing a Painting of Muhammad\n",
      "‘The Ezra Klein Show’\n",
      "Dan Savage on Polyamory, Chosen Family and Better Sex\n",
      "Paul Krugman\n",
      "Election Deniers Are Also Economy Deniers\n",
      "Michelle Goldberg\n",
      "DeSantis Allies Plot the Hostile Takeover of a Liberal College\n",
      "Yuval Levin\n",
      "Some Good Can Come Out of the Kevin McCarthy Fiasco\n",
      "Vanessa Barbara\n",
      "The ‘Trump of the Tropics’ Goes Bust\n",
      "Temple Grandin\n",
      "Society Is Failing Visual Thinkers, and That Hurts Us All\n",
      "Peter Coy\n",
      "Lula Has No Easy Choices\n",
      "Advertisement\n",
      "Officials Investigating Brazil Riots Turn Their Focus to Elites\n",
      "The Marcos-Duterte Ticket Won. Can This Philippine Alliance Last?\n",
      "Lynette Hardaway, of Pro-Trump Duo Diamond and Silk, Dies at 51\n",
      "Winning Numbers Drawn for $1.1 Billion Mega Millions Jackpot\n",
      "Man Who Fatally Bludgeoned Chinese Immigrant Sentenced to 20 Years\n",
      "Suspect in New Year’s Eve Attack on Police Is Charged With Federal Crimes\n",
      "New Jersey Governor Wants to Expand Number of Liquor Licenses\n",
      "New York Troopers’ Union Offices Searched by State Police Investigators\n",
      "Blake Hounshell, ‘On Politics’ Editor at The Times, Dies at 44\n",
      "Goldman Sachs Begins Laying Off 3,200 Employees\n",
      "U.S. hot spots ›\n",
      "Global hot spots ›\n",
      "A Spoonful of Sea Moss\n",
      "With a Financial Planner, Caution Is the Key\n",
      "Decorating? Don’t Forget the Ceiling.\n",
      "Poem: On Seeing and Being Seen\n",
      "How to Recognize PTSD Symptoms and Get Help\n",
      "Be Here Now: How to Exercise Mindfully\n",
      "Concentration Tips: How to Focus Like It’s 1990\n",
      "Are Some Foods Addictive?\n",
      "Why Am I Bloated All the Time?\n",
      "Advertisement\n",
      "Janet Malcolm Remembers\n",
      "Where Adventurous, Curious Women Rule\n",
      "A Paris Cabaret Makes Way for ‘Cabaret’\n",
      "The Apartment Where a Broadway Play Was Born\n",
      "Ratmansky Can Let His Imagination Run Wild at City Ballet\n",
      "Collapse of 2022 Patriots Stemmed From Bill Belichick’s Decisions\n",
      "The Carlos Correa Saga Will Have Fallout Across Baseball\n",
      "Ranking N.F.L. Teams From First to Worst Before the Playoffs Begin\n",
      "Where 130 Non-Georgia College Football Teams Land in Our Final Rankings\n",
      "A Star Played Only 369 Minutes in M.L.S. It Was Enough for a Title.\n",
      "Damar Hamlin Returned to Buffalo. What’s Next in His Recovery Process?\n",
      "Advertisement\n",
      "Wordle\n",
      "The Best First Wordle Words\n",
      "Spelling Bee\n",
      "The Crossword\n",
      "Letter Boxed\n"
     ]
    }
   ],
   "source": [
    "newstile = soup.find_all('h3')\n",
    "for h3 in newstile[:-1]:\n",
    "    print(h3.text)"
   ]
  },
  {
   "cell_type": "code",
   "execution_count": null,
   "metadata": {},
   "outputs": [],
   "source": []
  }
 ],
 "metadata": {
  "kernelspec": {
   "display_name": "base",
   "language": "python",
   "name": "python3"
  },
  "language_info": {
   "codemirror_mode": {
    "name": "ipython",
    "version": 3
   },
   "file_extension": ".py",
   "mimetype": "text/x-python",
   "name": "python",
   "nbconvert_exporter": "python",
   "pygments_lexer": "ipython3",
   "version": "3.9.12"
  },
  "orig_nbformat": 4,
  "vscode": {
   "interpreter": {
    "hash": "58f0bcacaf9635fc0414993733b3a1500a880c25c5f5b7ad822e8f1ebf1df3ab"
   }
  }
 },
 "nbformat": 4,
 "nbformat_minor": 2
}
